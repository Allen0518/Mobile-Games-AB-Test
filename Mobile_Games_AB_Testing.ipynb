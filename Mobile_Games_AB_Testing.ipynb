{
 "cells": [
  {
   "cell_type": "markdown",
   "id": "6d0b3856",
   "metadata": {},
   "source": [
    "**import library**"
   ]
  },
  {
   "cell_type": "code",
   "execution_count": 77,
   "id": "36eeee0f",
   "metadata": {},
   "outputs": [],
   "source": [
    "import numpy as np\n",
    "import pandas as pd \n",
    "import seaborn as sns\n",
    "import matplotlib.pyplot as plt\n",
    "import os\n",
    "\n",
    "import scipy.stats as stats\n",
    "from scipy.stats import shapiro, levene, ttest_ind, mannwhitneyu\n",
    "\n",
    "import warnings\n",
    "warnings.filterwarnings(\"ignore\")\n",
    "warnings.simplefilter(action='ignore', category=FutureWarning)\n",
    "\n",
    "pd.set_option('display.max_columns', None)\n",
    "pd.options.display.float_format = '{:.4f}'.format"
   ]
  },
  {
   "cell_type": "markdown",
   "id": "f6084f8b",
   "metadata": {},
   "source": [
    "**Load Data**"
   ]
  },
  {
   "cell_type": "code",
   "execution_count": 2,
   "id": "860d18b9",
   "metadata": {},
   "outputs": [
    {
     "data": {
      "text/html": [
       "<div>\n",
       "<style scoped>\n",
       "    .dataframe tbody tr th:only-of-type {\n",
       "        vertical-align: middle;\n",
       "    }\n",
       "\n",
       "    .dataframe tbody tr th {\n",
       "        vertical-align: top;\n",
       "    }\n",
       "\n",
       "    .dataframe thead th {\n",
       "        text-align: right;\n",
       "    }\n",
       "</style>\n",
       "<table border=\"1\" class=\"dataframe\">\n",
       "  <thead>\n",
       "    <tr style=\"text-align: right;\">\n",
       "      <th></th>\n",
       "      <th>userid</th>\n",
       "      <th>version</th>\n",
       "      <th>sum_gamerounds</th>\n",
       "      <th>retention_1</th>\n",
       "      <th>retention_7</th>\n",
       "    </tr>\n",
       "  </thead>\n",
       "  <tbody>\n",
       "    <tr>\n",
       "      <th>0</th>\n",
       "      <td>116</td>\n",
       "      <td>gate_30</td>\n",
       "      <td>3</td>\n",
       "      <td>False</td>\n",
       "      <td>False</td>\n",
       "    </tr>\n",
       "    <tr>\n",
       "      <th>1</th>\n",
       "      <td>337</td>\n",
       "      <td>gate_30</td>\n",
       "      <td>38</td>\n",
       "      <td>True</td>\n",
       "      <td>False</td>\n",
       "    </tr>\n",
       "    <tr>\n",
       "      <th>2</th>\n",
       "      <td>377</td>\n",
       "      <td>gate_40</td>\n",
       "      <td>165</td>\n",
       "      <td>True</td>\n",
       "      <td>False</td>\n",
       "    </tr>\n",
       "    <tr>\n",
       "      <th>3</th>\n",
       "      <td>483</td>\n",
       "      <td>gate_40</td>\n",
       "      <td>1</td>\n",
       "      <td>False</td>\n",
       "      <td>False</td>\n",
       "    </tr>\n",
       "    <tr>\n",
       "      <th>4</th>\n",
       "      <td>488</td>\n",
       "      <td>gate_40</td>\n",
       "      <td>179</td>\n",
       "      <td>True</td>\n",
       "      <td>True</td>\n",
       "    </tr>\n",
       "  </tbody>\n",
       "</table>\n",
       "</div>"
      ],
      "text/plain": [
       "   userid  version  sum_gamerounds  retention_1  retention_7\n",
       "0     116  gate_30               3        False        False\n",
       "1     337  gate_30              38         True        False\n",
       "2     377  gate_40             165         True        False\n",
       "3     483  gate_40               1        False        False\n",
       "4     488  gate_40             179         True         True"
      ]
     },
     "execution_count": 2,
     "metadata": {},
     "output_type": "execute_result"
    }
   ],
   "source": [
    "df = pd.read_csv('cookie_cats.csv')\n",
    "df.head()"
   ]
  },
  {
   "cell_type": "code",
   "execution_count": 3,
   "id": "d3edb58e",
   "metadata": {
    "scrolled": true
   },
   "outputs": [
    {
     "data": {
      "text/plain": [
       "userid            0\n",
       "version           0\n",
       "sum_gamerounds    0\n",
       "retention_1       0\n",
       "retention_7       0\n",
       "dtype: int64"
      ]
     },
     "execution_count": 3,
     "metadata": {},
     "output_type": "execute_result"
    }
   ],
   "source": [
    "df.isnull().sum()"
   ]
  },
  {
   "cell_type": "markdown",
   "id": "57226cee",
   "metadata": {
    "heading_collapsed": true
   },
   "source": [
    "# Summary Stats"
   ]
  },
  {
   "cell_type": "markdown",
   "id": "bd0bd7e7",
   "metadata": {
    "hidden": true
   },
   "source": [
    "**sum_gamerounds**"
   ]
  },
  {
   "cell_type": "code",
   "execution_count": 7,
   "id": "488f83b7",
   "metadata": {
    "hidden": true,
    "scrolled": true
   },
   "outputs": [
    {
     "data": {
      "text/html": [
       "<div>\n",
       "<style scoped>\n",
       "    .dataframe tbody tr th:only-of-type {\n",
       "        vertical-align: middle;\n",
       "    }\n",
       "\n",
       "    .dataframe tbody tr th {\n",
       "        vertical-align: top;\n",
       "    }\n",
       "\n",
       "    .dataframe thead th {\n",
       "        text-align: right;\n",
       "    }\n",
       "</style>\n",
       "<table border=\"1\" class=\"dataframe\">\n",
       "  <thead>\n",
       "    <tr style=\"text-align: right;\">\n",
       "      <th></th>\n",
       "      <th>count</th>\n",
       "      <th>mean</th>\n",
       "      <th>std</th>\n",
       "      <th>min</th>\n",
       "      <th>25%</th>\n",
       "      <th>50%</th>\n",
       "      <th>75%</th>\n",
       "      <th>max</th>\n",
       "    </tr>\n",
       "    <tr>\n",
       "      <th>version</th>\n",
       "      <th></th>\n",
       "      <th></th>\n",
       "      <th></th>\n",
       "      <th></th>\n",
       "      <th></th>\n",
       "      <th></th>\n",
       "      <th></th>\n",
       "      <th></th>\n",
       "    </tr>\n",
       "  </thead>\n",
       "  <tbody>\n",
       "    <tr>\n",
       "      <th>gate_30</th>\n",
       "      <td>44700.0000</td>\n",
       "      <td>52.4563</td>\n",
       "      <td>256.7164</td>\n",
       "      <td>0.0000</td>\n",
       "      <td>5.0000</td>\n",
       "      <td>17.0000</td>\n",
       "      <td>50.0000</td>\n",
       "      <td>49854.0000</td>\n",
       "    </tr>\n",
       "    <tr>\n",
       "      <th>gate_40</th>\n",
       "      <td>45489.0000</td>\n",
       "      <td>51.2988</td>\n",
       "      <td>103.2944</td>\n",
       "      <td>0.0000</td>\n",
       "      <td>5.0000</td>\n",
       "      <td>16.0000</td>\n",
       "      <td>52.0000</td>\n",
       "      <td>2640.0000</td>\n",
       "    </tr>\n",
       "  </tbody>\n",
       "</table>\n",
       "</div>"
      ],
      "text/plain": [
       "             count    mean      std    min    25%     50%     75%        max\n",
       "version                                                                     \n",
       "gate_30 44700.0000 52.4563 256.7164 0.0000 5.0000 17.0000 50.0000 49854.0000\n",
       "gate_40 45489.0000 51.2988 103.2944 0.0000 5.0000 16.0000 52.0000  2640.0000"
      ]
     },
     "execution_count": 7,
     "metadata": {},
     "output_type": "execute_result"
    }
   ],
   "source": [
    "df.groupby('version')['sum_gamerounds'].describe()"
   ]
  },
  {
   "cell_type": "code",
   "execution_count": 40,
   "id": "d2e4609f",
   "metadata": {
    "hidden": true
   },
   "outputs": [
    {
     "data": {
      "image/png": "[encoded data removed]",
      "text/plain": [
       "<Figure size 640x480 with 1 Axes>"
      ]
     },
     "metadata": {},
     "output_type": "display_data"
    }
   ],
   "source": [
    "# 計算IQR\n",
    "Q1 = df['sum_gamerounds'].quantile(q=0.25)\n",
    "Q3 = df['sum_gamerounds'].quantile(q=0.75)\n",
    "IQR = Q3 - Q1\n",
    "\n",
    "# 排除outlier的distribution\n",
    "sns.distplot(df[(df['version'] == 'gate_30') & (df['sum_gamerounds'] <= 3*IQR)]['sum_gamerounds'])\n",
    "sns.distplot(df[(df['version'] == 'gate_40') & (df['sum_gamerounds'] <= 3*IQR)]['sum_gamerounds'])\n",
    "\n",
    "plt.show()"
   ]
  },
  {
   "cell_type": "markdown",
   "id": "4e2762f5",
   "metadata": {
    "hidden": true
   },
   "source": [
    "觀察兩組使用者的\"sum_gamerounds\"，可以發現平均而言gate_40的使用者的平均遊玩次數較高一些。"
   ]
  },
  {
   "cell_type": "code",
   "execution_count": 23,
   "id": "e4bd3552",
   "metadata": {
    "hidden": true,
    "scrolled": true
   },
   "outputs": [
    {
     "data": {
      "text/plain": [
       "version\n",
       "gate_30    20034\n",
       "gate_40    20119\n",
       "Name: retention_1, dtype: int64"
      ]
     },
     "execution_count": 23,
     "metadata": {},
     "output_type": "execute_result"
    }
   ],
   "source": [
    "df[df['retention_1'] == True].groupby('version')['retention_1'].count()"
   ]
  },
  {
   "cell_type": "markdown",
   "id": "498f317e",
   "metadata": {
    "hidden": true
   },
   "source": [
    "觀察兩組使用者在一天後重新登入遊戲的人數，發現 “gate_40” 稍微多出一些。"
   ]
  },
  {
   "cell_type": "code",
   "execution_count": 24,
   "id": "7dbd6361",
   "metadata": {
    "hidden": true
   },
   "outputs": [
    {
     "data": {
      "text/plain": [
       "version\n",
       "gate_30    8502\n",
       "gate_40    8279\n",
       "Name: retention_7, dtype: int64"
      ]
     },
     "execution_count": 24,
     "metadata": {},
     "output_type": "execute_result"
    }
   ],
   "source": [
    "df[df['retention_7'] == True].groupby('version')['retention_7'].count()"
   ]
  },
  {
   "cell_type": "markdown",
   "id": "763dbaa4",
   "metadata": {
    "hidden": true
   },
   "source": [
    "觀察兩組使用者在七天後重新登入遊戲的人數，發現 “gate_30” 反而稍微多出一些。"
   ]
  },
  {
   "cell_type": "markdown",
   "id": "10d3aa9d",
   "metadata": {
    "heading_collapsed": true
   },
   "source": [
    "# Remove outliers"
   ]
  },
  {
   "cell_type": "markdown",
   "id": "78e6f677",
   "metadata": {
    "hidden": true
   },
   "source": [
    "由於我們往後的檢定將會使用mean來進行測量，而mean最大的缺點之一便是容易受到極段值影響，因此我們應改先剔除資料中德極端值。"
   ]
  },
  {
   "cell_type": "code",
   "execution_count": 38,
   "id": "1d48cd07",
   "metadata": {
    "hidden": true
   },
   "outputs": [
    {
     "name": "stdout",
     "output_type": "stream",
     "text": [
      "IQR : 46.0\n"
     ]
    },
    {
     "data": {
      "image/png": "[encoded data removed]",
      "text/plain": [
       "<Figure size 640x480 with 1 Axes>"
      ]
     },
     "metadata": {},
     "output_type": "display_data"
    }
   ],
   "source": [
    "# 計算IQR\n",
    "Q1 = df['sum_gamerounds'].quantile(q=0.25)\n",
    "Q3 = df['sum_gamerounds'].quantile(q=0.75)\n",
    "IQR = Q3 - Q1\n",
    "print(f\"IQR : {IQR}\")\n",
    "\n",
    "# 機率分配圖\n",
    "sns.distplot(df['sum_gamerounds'])\n",
    "plt.show()"
   ]
  },
  {
   "cell_type": "code",
   "execution_count": 36,
   "id": "24d0b81e",
   "metadata": {
    "hidden": true,
    "scrolled": true
   },
   "outputs": [
    {
     "data": {
      "text/html": [
       "<div>\n",
       "<style scoped>\n",
       "    .dataframe tbody tr th:only-of-type {\n",
       "        vertical-align: middle;\n",
       "    }\n",
       "\n",
       "    .dataframe tbody tr th {\n",
       "        vertical-align: top;\n",
       "    }\n",
       "\n",
       "    .dataframe thead th {\n",
       "        text-align: right;\n",
       "    }\n",
       "</style>\n",
       "<table border=\"1\" class=\"dataframe\">\n",
       "  <thead>\n",
       "    <tr style=\"text-align: right;\">\n",
       "      <th></th>\n",
       "      <th>userid</th>\n",
       "      <th>version</th>\n",
       "      <th>sum_gamerounds</th>\n",
       "      <th>retention_1</th>\n",
       "      <th>retention_7</th>\n",
       "    </tr>\n",
       "  </thead>\n",
       "  <tbody>\n",
       "    <tr>\n",
       "      <th>0</th>\n",
       "      <td>116</td>\n",
       "      <td>gate_30</td>\n",
       "      <td>3</td>\n",
       "      <td>False</td>\n",
       "      <td>False</td>\n",
       "    </tr>\n",
       "    <tr>\n",
       "      <th>1</th>\n",
       "      <td>337</td>\n",
       "      <td>gate_30</td>\n",
       "      <td>38</td>\n",
       "      <td>True</td>\n",
       "      <td>False</td>\n",
       "    </tr>\n",
       "    <tr>\n",
       "      <th>3</th>\n",
       "      <td>483</td>\n",
       "      <td>gate_40</td>\n",
       "      <td>1</td>\n",
       "      <td>False</td>\n",
       "      <td>False</td>\n",
       "    </tr>\n",
       "    <tr>\n",
       "      <th>6</th>\n",
       "      <td>1066</td>\n",
       "      <td>gate_30</td>\n",
       "      <td>0</td>\n",
       "      <td>False</td>\n",
       "      <td>False</td>\n",
       "    </tr>\n",
       "    <tr>\n",
       "      <th>7</th>\n",
       "      <td>1444</td>\n",
       "      <td>gate_40</td>\n",
       "      <td>2</td>\n",
       "      <td>False</td>\n",
       "      <td>False</td>\n",
       "    </tr>\n",
       "    <tr>\n",
       "      <th>...</th>\n",
       "      <td>...</td>\n",
       "      <td>...</td>\n",
       "      <td>...</td>\n",
       "      <td>...</td>\n",
       "      <td>...</td>\n",
       "    </tr>\n",
       "    <tr>\n",
       "      <th>90184</th>\n",
       "      <td>9999441</td>\n",
       "      <td>gate_40</td>\n",
       "      <td>97</td>\n",
       "      <td>True</td>\n",
       "      <td>False</td>\n",
       "    </tr>\n",
       "    <tr>\n",
       "      <th>90185</th>\n",
       "      <td>9999479</td>\n",
       "      <td>gate_40</td>\n",
       "      <td>30</td>\n",
       "      <td>False</td>\n",
       "      <td>False</td>\n",
       "    </tr>\n",
       "    <tr>\n",
       "      <th>90186</th>\n",
       "      <td>9999710</td>\n",
       "      <td>gate_30</td>\n",
       "      <td>28</td>\n",
       "      <td>True</td>\n",
       "      <td>False</td>\n",
       "    </tr>\n",
       "    <tr>\n",
       "      <th>90187</th>\n",
       "      <td>9999768</td>\n",
       "      <td>gate_40</td>\n",
       "      <td>51</td>\n",
       "      <td>True</td>\n",
       "      <td>False</td>\n",
       "    </tr>\n",
       "    <tr>\n",
       "      <th>90188</th>\n",
       "      <td>9999861</td>\n",
       "      <td>gate_40</td>\n",
       "      <td>16</td>\n",
       "      <td>False</td>\n",
       "      <td>False</td>\n",
       "    </tr>\n",
       "  </tbody>\n",
       "</table>\n",
       "<p>81411 rows × 5 columns</p>\n",
       "</div>"
      ],
      "text/plain": [
       "        userid  version  sum_gamerounds  retention_1  retention_7\n",
       "0          116  gate_30               3        False        False\n",
       "1          337  gate_30              38         True        False\n",
       "3          483  gate_40               1        False        False\n",
       "6         1066  gate_30               0        False        False\n",
       "7         1444  gate_40               2        False        False\n",
       "...        ...      ...             ...          ...          ...\n",
       "90184  9999441  gate_40              97         True        False\n",
       "90185  9999479  gate_40              30        False        False\n",
       "90186  9999710  gate_30              28         True        False\n",
       "90187  9999768  gate_40              51         True        False\n",
       "90188  9999861  gate_40              16        False        False\n",
       "\n",
       "[81411 rows x 5 columns]"
      ]
     },
     "execution_count": 36,
     "metadata": {},
     "output_type": "execute_result"
    }
   ],
   "source": [
    "df = df[df['sum_gamerounds'] < 3 * IQR]"
   ]
  },
  {
   "cell_type": "markdown",
   "id": "28bf25e2",
   "metadata": {
    "hidden": true
   },
   "source": [
    "以傳統3倍IQR當作是oulier 的 threadhold並將outlier剔除"
   ]
  },
  {
   "cell_type": "markdown",
   "id": "5074c9a2",
   "metadata": {
    "heading_collapsed": true
   },
   "source": [
    "# Other Details "
   ]
  },
  {
   "cell_type": "markdown",
   "id": "2b0242a6",
   "metadata": {
    "hidden": true
   },
   "source": [
    "**retension & sum_gamerounds**"
   ]
  },
  {
   "cell_type": "code",
   "execution_count": 45,
   "id": "a94fa5f0",
   "metadata": {
    "hidden": true,
    "scrolled": false
   },
   "outputs": [
    {
     "data": {
      "text/html": [
       "<div>\n",
       "<style scoped>\n",
       "    .dataframe tbody tr th:only-of-type {\n",
       "        vertical-align: middle;\n",
       "    }\n",
       "\n",
       "    .dataframe tbody tr th {\n",
       "        vertical-align: top;\n",
       "    }\n",
       "\n",
       "    .dataframe thead th {\n",
       "        text-align: right;\n",
       "    }\n",
       "</style>\n",
       "<table border=\"1\" class=\"dataframe\">\n",
       "  <thead>\n",
       "    <tr style=\"text-align: right;\">\n",
       "      <th></th>\n",
       "      <th></th>\n",
       "      <th>count</th>\n",
       "      <th>median</th>\n",
       "      <th>mean</th>\n",
       "      <th>std</th>\n",
       "    </tr>\n",
       "    <tr>\n",
       "      <th>version</th>\n",
       "      <th>retention_1</th>\n",
       "      <th></th>\n",
       "      <th></th>\n",
       "      <th></th>\n",
       "      <th></th>\n",
       "    </tr>\n",
       "  </thead>\n",
       "  <tbody>\n",
       "    <tr>\n",
       "      <th rowspan=\"2\" valign=\"top\">gate_30</th>\n",
       "      <th>False</th>\n",
       "      <td>24666</td>\n",
       "      <td>6.0000</td>\n",
       "      <td>18.3796</td>\n",
       "      <td>319.4232</td>\n",
       "    </tr>\n",
       "    <tr>\n",
       "      <th>True</th>\n",
       "      <td>20034</td>\n",
       "      <td>48.0000</td>\n",
       "      <td>94.4117</td>\n",
       "      <td>135.0377</td>\n",
       "    </tr>\n",
       "    <tr>\n",
       "      <th rowspan=\"2\" valign=\"top\">gate_40</th>\n",
       "      <th>False</th>\n",
       "      <td>25370</td>\n",
       "      <td>6.0000</td>\n",
       "      <td>16.3404</td>\n",
       "      <td>35.9258</td>\n",
       "    </tr>\n",
       "    <tr>\n",
       "      <th>True</th>\n",
       "      <td>20119</td>\n",
       "      <td>49.0000</td>\n",
       "      <td>95.3812</td>\n",
       "      <td>137.8873</td>\n",
       "    </tr>\n",
       "  </tbody>\n",
       "</table>\n",
       "</div>"
      ],
      "text/plain": [
       "                     count  median    mean      std\n",
       "version retention_1                                \n",
       "gate_30 False        24666  6.0000 18.3796 319.4232\n",
       "        True         20034 48.0000 94.4117 135.0377\n",
       "gate_40 False        25370  6.0000 16.3404  35.9258\n",
       "        True         20119 49.0000 95.3812 137.8873"
      ]
     },
     "execution_count": 45,
     "metadata": {},
     "output_type": "execute_result"
    }
   ],
   "source": [
    "df.groupby(['version', 'retention_1']).sum_gamerounds.agg(['count', 'median', 'mean', 'std'])"
   ]
  },
  {
   "cell_type": "code",
   "execution_count": 47,
   "id": "14a816d0",
   "metadata": {
    "hidden": true
   },
   "outputs": [
    {
     "data": {
      "text/html": [
       "<div>\n",
       "<style scoped>\n",
       "    .dataframe tbody tr th:only-of-type {\n",
       "        vertical-align: middle;\n",
       "    }\n",
       "\n",
       "    .dataframe tbody tr th {\n",
       "        vertical-align: top;\n",
       "    }\n",
       "\n",
       "    .dataframe thead th {\n",
       "        text-align: right;\n",
       "    }\n",
       "</style>\n",
       "<table border=\"1\" class=\"dataframe\">\n",
       "  <thead>\n",
       "    <tr style=\"text-align: right;\">\n",
       "      <th></th>\n",
       "      <th></th>\n",
       "      <th>count</th>\n",
       "      <th>median</th>\n",
       "      <th>mean</th>\n",
       "      <th>std</th>\n",
       "    </tr>\n",
       "    <tr>\n",
       "      <th>version</th>\n",
       "      <th>retention_7</th>\n",
       "      <th></th>\n",
       "      <th></th>\n",
       "      <th></th>\n",
       "      <th></th>\n",
       "    </tr>\n",
       "  </thead>\n",
       "  <tbody>\n",
       "    <tr>\n",
       "      <th rowspan=\"2\" valign=\"top\">gate_30</th>\n",
       "      <th>False</th>\n",
       "      <td>36198</td>\n",
       "      <td>11.0000</td>\n",
       "      <td>25.7965</td>\n",
       "      <td>43.3162</td>\n",
       "    </tr>\n",
       "    <tr>\n",
       "      <th>True</th>\n",
       "      <td>8502</td>\n",
       "      <td>105.0000</td>\n",
       "      <td>165.9625</td>\n",
       "      <td>568.0006</td>\n",
       "    </tr>\n",
       "    <tr>\n",
       "      <th rowspan=\"2\" valign=\"top\">gate_40</th>\n",
       "      <th>False</th>\n",
       "      <td>37210</td>\n",
       "      <td>11.0000</td>\n",
       "      <td>25.8564</td>\n",
       "      <td>44.4061</td>\n",
       "    </tr>\n",
       "    <tr>\n",
       "      <th>True</th>\n",
       "      <td>8279</td>\n",
       "      <td>111.0000</td>\n",
       "      <td>165.6498</td>\n",
       "      <td>183.7925</td>\n",
       "    </tr>\n",
       "  </tbody>\n",
       "</table>\n",
       "</div>"
      ],
      "text/plain": [
       "                     count   median     mean      std\n",
       "version retention_7                                  \n",
       "gate_30 False        36198  11.0000  25.7965  43.3162\n",
       "        True          8502 105.0000 165.9625 568.0006\n",
       "gate_40 False        37210  11.0000  25.8564  44.4061\n",
       "        True          8279 111.0000 165.6498 183.7925"
      ]
     },
     "execution_count": 47,
     "metadata": {},
     "output_type": "execute_result"
    }
   ],
   "source": [
    "df.groupby(['version', 'retention_7']).sum_gamerounds.agg(['count', 'median', 'mean', 'std'])"
   ]
  },
  {
   "cell_type": "markdown",
   "id": "5fa20242",
   "metadata": {
    "hidden": true
   },
   "source": [
    "我們可以由上表發現，“gate_40”的玩家在第二天重新登入遊戲與否，造成在遊玩回合上的差異大於“gate_30”的玩家"
   ]
  },
  {
   "cell_type": "markdown",
   "id": "39bb99f4",
   "metadata": {
    "hidden": true
   },
   "source": [
    "**持續性玩家**"
   ]
  },
  {
   "cell_type": "code",
   "execution_count": 52,
   "id": "d780f3f6",
   "metadata": {
    "hidden": true
   },
   "outputs": [
    {
     "data": {
      "text/plain": [
       "version\n",
       "gate_30    6676\n",
       "gate_40    6506\n",
       "Name: Retention, dtype: int64"
      ]
     },
     "execution_count": 52,
     "metadata": {},
     "output_type": "execute_result"
    }
   ],
   "source": [
    "df['Retention'] = np.where((df.retention_1 == True) & (df.retention_7 == True), 1,0)\n",
    "df.groupby('version')['Retention'].sum()"
   ]
  },
  {
   "cell_type": "markdown",
   "id": "34625993",
   "metadata": {
    "hidden": true
   },
   "source": [
    "“gate_30”相較於“gate_40”中出現了更多的持續性玩家。"
   ]
  },
  {
   "cell_type": "markdown",
   "id": "74b47909",
   "metadata": {
    "hidden": true
   },
   "source": [
    "**流失玩家**"
   ]
  },
  {
   "cell_type": "code",
   "execution_count": 53,
   "id": "97bdd992",
   "metadata": {
    "hidden": true
   },
   "outputs": [
    {
     "data": {
      "text/plain": [
       "version\n",
       "gate_30    13358\n",
       "gate_40    13613\n",
       "Name: Loss, dtype: int64"
      ]
     },
     "execution_count": 53,
     "metadata": {},
     "output_type": "execute_result"
    }
   ],
   "source": [
    "df['Loss'] = np.where((df.retention_1 == True) & (df.retention_7 == False), 1,0)\n",
    "df.groupby('version')['Loss'].sum()"
   ]
  },
  {
   "cell_type": "markdown",
   "id": "65d48374",
   "metadata": {
    "hidden": true
   },
   "source": [
    "“gate_40”相較於“gate_30”中出現了更多的流失玩家。"
   ]
  },
  {
   "cell_type": "markdown",
   "id": "746def10",
   "metadata": {
    "hidden": true
   },
   "source": [
    "**回鍋玩家**"
   ]
  },
  {
   "cell_type": "code",
   "execution_count": 54,
   "id": "da2a2b7e",
   "metadata": {
    "hidden": true
   },
   "outputs": [
    {
     "data": {
      "text/plain": [
       "version\n",
       "gate_30    1826\n",
       "gate_40    1773\n",
       "Name: Return, dtype: int64"
      ]
     },
     "execution_count": 54,
     "metadata": {},
     "output_type": "execute_result"
    }
   ],
   "source": [
    "df['Return'] = np.where((df.retention_1 == False) & (df.retention_7 == True), 1,0)\n",
    "df.groupby('version')['Return'].sum()"
   ]
  },
  {
   "cell_type": "markdown",
   "id": "fbd06e0c",
   "metadata": {
    "hidden": true
   },
   "source": [
    "“gate_40”相較於“gate_30”中出現了更多的回鍋玩家。"
   ]
  },
  {
   "cell_type": "markdown",
   "id": "769d551c",
   "metadata": {
    "heading_collapsed": true
   },
   "source": [
    "# A/B Testing"
   ]
  },
  {
   "cell_type": "markdown",
   "id": "24ea94f0",
   "metadata": {
    "hidden": true
   },
   "source": [
    "**Check normality**"
   ]
  },
  {
   "cell_type": "code",
   "execution_count": 55,
   "id": "ebb40db2",
   "metadata": {
    "hidden": true
   },
   "outputs": [
    {
     "data": {
      "text/html": [
       "<div>\n",
       "<style scoped>\n",
       "    .dataframe tbody tr th:only-of-type {\n",
       "        vertical-align: middle;\n",
       "    }\n",
       "\n",
       "    .dataframe tbody tr th {\n",
       "        vertical-align: top;\n",
       "    }\n",
       "\n",
       "    .dataframe thead th {\n",
       "        text-align: right;\n",
       "    }\n",
       "</style>\n",
       "<table border=\"1\" class=\"dataframe\">\n",
       "  <thead>\n",
       "    <tr style=\"text-align: right;\">\n",
       "      <th></th>\n",
       "      <th>userid</th>\n",
       "      <th>version</th>\n",
       "      <th>sum_gamerounds</th>\n",
       "      <th>retention_1</th>\n",
       "      <th>retention_7</th>\n",
       "      <th>Retention</th>\n",
       "      <th>Loss</th>\n",
       "      <th>Return</th>\n",
       "    </tr>\n",
       "  </thead>\n",
       "  <tbody>\n",
       "    <tr>\n",
       "      <th>0</th>\n",
       "      <td>116</td>\n",
       "      <td>A</td>\n",
       "      <td>3</td>\n",
       "      <td>False</td>\n",
       "      <td>False</td>\n",
       "      <td>0</td>\n",
       "      <td>0</td>\n",
       "      <td>0</td>\n",
       "    </tr>\n",
       "    <tr>\n",
       "      <th>1</th>\n",
       "      <td>337</td>\n",
       "      <td>A</td>\n",
       "      <td>38</td>\n",
       "      <td>True</td>\n",
       "      <td>False</td>\n",
       "      <td>0</td>\n",
       "      <td>1</td>\n",
       "      <td>0</td>\n",
       "    </tr>\n",
       "    <tr>\n",
       "      <th>2</th>\n",
       "      <td>377</td>\n",
       "      <td>B</td>\n",
       "      <td>165</td>\n",
       "      <td>True</td>\n",
       "      <td>False</td>\n",
       "      <td>0</td>\n",
       "      <td>1</td>\n",
       "      <td>0</td>\n",
       "    </tr>\n",
       "    <tr>\n",
       "      <th>3</th>\n",
       "      <td>483</td>\n",
       "      <td>B</td>\n",
       "      <td>1</td>\n",
       "      <td>False</td>\n",
       "      <td>False</td>\n",
       "      <td>0</td>\n",
       "      <td>0</td>\n",
       "      <td>0</td>\n",
       "    </tr>\n",
       "    <tr>\n",
       "      <th>4</th>\n",
       "      <td>488</td>\n",
       "      <td>B</td>\n",
       "      <td>179</td>\n",
       "      <td>True</td>\n",
       "      <td>True</td>\n",
       "      <td>1</td>\n",
       "      <td>0</td>\n",
       "      <td>0</td>\n",
       "    </tr>\n",
       "  </tbody>\n",
       "</table>\n",
       "</div>"
      ],
      "text/plain": [
       "   userid version  sum_gamerounds  retention_1  retention_7  Retention  Loss  \\\n",
       "0     116       A               3        False        False          0     0   \n",
       "1     337       A              38         True        False          0     1   \n",
       "2     377       B             165         True        False          0     1   \n",
       "3     483       B               1        False        False          0     0   \n",
       "4     488       B             179         True         True          1     0   \n",
       "\n",
       "   Return  \n",
       "0       0  \n",
       "1       0  \n",
       "2       0  \n",
       "3       0  \n",
       "4       0  "
      ]
     },
     "execution_count": 55,
     "metadata": {},
     "output_type": "execute_result"
    }
   ],
   "source": [
    "df[\"version\"] = np.where(df.version == \"gate_30\", \"A\", \"B\")\n",
    "df.head()"
   ]
  },
  {
   "cell_type": "markdown",
   "id": "0b2b5d69",
   "metadata": {
    "hidden": true
   },
   "source": [
    "**AB testing function**"
   ]
  },
  {
   "cell_type": "code",
   "execution_count": 76,
   "id": "8c01de9a",
   "metadata": {
    "hidden": true
   },
   "outputs": [],
   "source": [
    "def AB_Test(dataframe, group, target):\n",
    "    \n",
    "    # Split A/B\n",
    "    groupA = dataframe.loc[dataframe[group] == \"A\", target]\n",
    "    groupB = dataframe.loc[dataframe[group] == \"B\", target]\n",
    "    \n",
    "    # 檢驗 AB 兩組受試者是否為常態分佈\n",
    "    # H0: Distribution is Normal\n",
    "    # H1: Distribution is not Normal\n",
    "    \n",
    "    ntA = shapiro(groupA)[1] < 0.05\n",
    "    ntB = shapiro(groupB)[1] < 0.05\n",
    "    \n",
    "    # 檢定變異數同質性\n",
    "    # H0: Homogeneity: False\n",
    "    # H1: Heterogeneous: True\n",
    "    leveneTest = None\n",
    "    \n",
    "    if not ntA and not ntB:\n",
    "        leveneTest = levene(groupA, groupB)[1] < 0.05 \n",
    "        ttest_func = ttest_ind\n",
    "        if leveneTest:\n",
    "            ttest_func = lambda a, b: ttest_ind(a, b, equal_var=False)[1]\n",
    "    else:\n",
    "        ttest_func = mannwhitneyu\n",
    "        \n",
    "    # 假設檢定\n",
    "    ttest = ttest_func(groupA, groupB)[1]\n",
    "    \n",
    "    # 結果\n",
    "    homogeneity = \"Yes\" if not leveneTest else \"No\"\n",
    "    hypothesis_result = \"Reject H0\" if ttest < 0.05 else \"Fail to Reject H0\"\n",
    "    comment = \"A/B groups are not similar!\" if hypothesis_result == \"Reject H0\" else \"A/B groups are similar!\"\n",
    "    \n",
    "    print(\"# A/B Testing Hypothesis\")\n",
    "    print(\"H0: A == B\")\n",
    "    print(\"H1: A != B\", \"\\n\")\n",
    "    print('-'*50)\n",
    "    print(f\"Test Type: {'Parametric' if not ntA and not ntB else 'Non-Parametric'}\")\n",
    "    print(f\"Homogeneity: {homogeneity}\")\n",
    "    print(f\"AB Hypothesis: {hypothesis_result}\")\n",
    "    print(f\"p-value: {ttest}\")\n",
    "    print(f\"Comment: {comment}\")\n",
    "    print('-'*50)"
   ]
  },
  {
   "cell_type": "markdown",
   "id": "0d7ec114",
   "metadata": {
    "hidden": true
   },
   "source": [
    "**sum_gamerounds**"
   ]
  },
  {
   "cell_type": "code",
   "execution_count": 75,
   "id": "de85f9f7",
   "metadata": {
    "hidden": true
   },
   "outputs": [
    {
     "name": "stdout",
     "output_type": "stream",
     "text": [
      "# A/B Testing Hypothesis\n",
      "H0: A == B\n",
      "H1: A != B \n",
      "\n",
      "--------------------------------------------------\n",
      "Test Type: Non-Parametric\n",
      "Homogeneity: Yes\n",
      "AB Hypothesis: Fail to Reject H0\n",
      "p-value: 0.05020880772044255\n",
      "Comment: A/B groups are similar!\n",
      "--------------------------------------------------\n"
     ]
    }
   ],
   "source": [
    "AB_Test(dataframe=df, group = \"version\", target = \"sum_gamerounds\")"
   ]
  },
  {
   "cell_type": "markdown",
   "id": "b7d06a4e",
   "metadata": {
    "hidden": true
   },
   "source": [
    "由以上假設檢定結果可知，雖然gate_40的玩家遊玩次數較多餘gate_30的玩家，但並未在統計上顯著。"
   ]
  },
  {
   "cell_type": "code",
   "execution_count": null,
   "id": "48850413",
   "metadata": {
    "hidden": true
   },
   "outputs": [],
   "source": []
  }
 ],
 "metadata": {
  "kernelspec": {
   "display_name": "Python 3 (ipykernel)",
   "language": "python",
   "name": "python3"
  },
  "language_info": {
   "codemirror_mode": {
    "name": "ipython",
    "version": 3
   },
   "file_extension": ".py",
   "mimetype": "text/x-python",
   "name": "python",
   "nbconvert_exporter": "python",
   "pygments_lexer": "ipython3",
   "version": "3.9.13"
  },
  "toc": {
   "base_numbering": 1,
   "nav_menu": {},
   "number_sections": true,
   "sideBar": true,
   "skip_h1_title": false,
   "title_cell": "Table of Contents",
   "title_sidebar": "Contents",
   "toc_cell": false,
   "toc_position": {},
   "toc_section_display": true,
   "toc_window_display": false
  }
 },
 "nbformat": 4,
 "nbformat_minor": 5
}
